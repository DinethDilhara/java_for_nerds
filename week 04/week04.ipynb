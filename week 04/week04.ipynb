{
  "nbformat": 4,
  "nbformat_minor": 0,
  "metadata": {
    "colab": {
      "provenance": []
    },
    "kernelspec": {
      "name": "java",
      "display_name": "Java"
    }
  },
  "cells": [
    {
      "cell_type": "code",
      "execution_count": null,
      "metadata": {
        "colab": {
          "base_uri": "https://localhost:8080/"
        },
        "id": "2uPeXmagdtt2",
        "outputId": "7b0b7c1c-d42a-403d-9594-163492709af3"
      },
      "outputs": [
        {
          "output_type": "stream",
          "name": "stdout",
          "text": [
            "Installed java kernel into \"/usr/local/share/jupyter/kernels/java\"\n",
            "e2732061ad19c1afa4a33a58cb8f18a9-b6cff2bf09b6832344e576ea1e4731f0fb3df10c/install_ipc_proxy_kernel.py\n",
            "e2732061ad19c1afa4a33a58cb8f18a9-b6cff2bf09b6832344e576ea1e4731f0fb3df10c/ipc_proxy_kernel.py\n",
            "Moving java kernel from /usr/local/share/jupyter/kernels/java...\n",
            "Wrote modified kernel.json for java_tcp in /usr/local/share/jupyter/kernels/java_tcp/kernel.json\n",
            "Installing the proxy kernel in place of java in /usr/local/share/jupyter/kernels/java\n",
            "Installed proxy kernelspec: {\"argv\": [\"/usr/bin/python3\", \"/usr/local/share/jupyter/kernels/java/ipc_proxy_kernel.py\", \"{connection_file}\", \"--kernel=java_tcp\"], \"env\": {}, \"display_name\": \"Java\", \"language\": \"java\", \"interrupt_mode\": \"message\", \"metadata\": {}}\n",
            "Proxy kernel installed. Go to 'Runtime > Change runtime type' and select 'java'\n"
          ]
        },
        {
          "output_type": "stream",
          "name": "stderr",
          "text": [
            "/content/install.py:164: DeprecationWarning: replace is ignored. Installing a kernelspec always replaces an existing installation\n",
            "  install_dest = KernelSpecManager().install_kernel_spec(\n"
          ]
        }
      ],
      "source": [
        "%%sh\n",
        "# Install java kernel\n",
        "wget -q https://github.com/SpencerPark/IJava/releases/download/v1.3.0/ijava-1.3.0.zip\n",
        "unzip -q ijava-1.3.0.zip\n",
        "python install.py\n",
        "\n",
        "# Install proxy for the java kernel\n",
        "wget -qO- https://gist.github.com/SpencerPark/e2732061ad19c1afa4a33a58cb8f18a9/archive/b6cff2bf09b6832344e576ea1e4731f0fb3df10c.tar.gz | tar xvz --strip-components=1\n",
        "python install_ipc_proxy_kernel.py --kernel=java --implementation=ipc_proxy_kernel.py"
      ]
    },
    {
      "cell_type": "code",
      "source": [
        "System.out.print(\"hello\")"
      ],
      "metadata": {
        "colab": {
          "base_uri": "https://localhost:8080/"
        },
        "id": "hURk7t2beZWr",
        "outputId": "d8a74a0a-9b72-4e09-8de3-0a716cbbb12b"
      },
      "execution_count": null,
      "outputs": [
        {
          "output_type": "stream",
          "name": "stdout",
          "text": [
            "hello"
          ]
        }
      ]
    },
    {
      "cell_type": "code",
      "source": [
        "print(\"helo\")"
      ],
      "metadata": {
        "colab": {
          "base_uri": "https://localhost:8080/"
        },
        "id": "XEiwHODUDRBF",
        "outputId": "d212f400-3416-4bcb-8151-a5afc0e97a2d"
      },
      "execution_count": null,
      "outputs": [
        {
          "output_type": "stream",
          "name": "stdout",
          "text": [
            "helo\n"
          ]
        }
      ]
    },
    {
      "cell_type": "markdown",
      "source": [
        "# <font color=\"red\">Here we talk about Arrays in java</font>\n",
        "\n",
        "## `Arrays`\n",
        "\n",
        "- Declaration\n",
        "- Indices\n",
        "- Access\n",
        "- Length\n",
        "- Enhanced loop\n",
        "- Search\n",
        "- Copy\n",
        "- 2D arrays\n",
        "- HashMaps\n",
        "\n",
        "---\n"
      ],
      "metadata": {
        "id": "mx-3t0AYekOB"
      }
    },
    {
      "cell_type": "markdown",
      "source": [
        "# Array\n",
        "\n",
        "### <u>Array Declaration</u>\n",
        "\n",
        "- Array is `block of conseative memory location` that hold values of `same type of data`\n",
        "\n",
        "-  [&nbsp;] is used to declare the data structure of an array\n",
        "\n",
        "- Following table shows each how data type  initialize values when we dont declare them\n",
        "\n",
        "<br>\n",
        "\n",
        "| Data Type              | Initialization Value |\n",
        "|------------------------|----------------------|\n",
        "| int/short/byte/long   | 0                    |\n",
        "| float/double          | 0.0                  |\n",
        "| boolean               | false                |\n",
        "| References (String, objects) | null             |\n",
        "\n",
        "\n",
        "\n",
        "<u>Declaration</u>\n",
        "\n",
        "There are two ways to declare array\n",
        "          \n",
        "\n",
        "1.   By giving initial values\n",
        "2.   By not giving initial values\n",
        "\n",
        "![img2.png](data:image/png;base64,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)\n",
        "\n",
        "\n",
        "\n"
      ],
      "metadata": {
        "id": "pgGAToXueloG"
      }
    },
    {
      "cell_type": "code",
      "source": [
        "/* method 01 - by giving initial values */\n",
        "\n",
        "\n",
        "System.out.println(\"Method 01\");\n",
        "int[] num = {1,2,3,4,5};\n",
        "\n",
        "\n",
        "for(int i : num){\n",
        "    System.out.println(i);\n",
        "}\n",
        "\n",
        "/* method 02 - by not giving initial values */\n",
        "\n",
        "System.out.println(\"Method 02\");\n",
        "\n",
        "int[] num1 = new int [5];\n",
        "\n",
        "for(int i : num1){\n",
        "    System.out.println(i);\n",
        "}\n",
        "\n"
      ],
      "metadata": {
        "colab": {
          "base_uri": "https://localhost:8080/"
        },
        "id": "m7-_W2_ni2Dg",
        "outputId": "f687944b-3f56-438e-e5c0-2154250adf5f"
      },
      "execution_count": null,
      "outputs": [
        {
          "output_type": "stream",
          "name": "stdout",
          "text": [
            "Method 01\n",
            "1\n",
            "2\n",
            "3\n",
            "4\n",
            "5\n",
            "Method 02\n",
            "0\n",
            "0\n",
            "0\n",
            "0\n",
            "0\n"
          ]
        }
      ]
    },
    {
      "cell_type": "markdown",
      "source": [
        "\n",
        "### <u>Array Indices</u>\n",
        "\n",
        "- each element can access by their index/subscrpt\n",
        "\n",
        "- array has 0 to (length of array -1) number of index\n",
        "\n",
        "<br>\n",
        "\n",
        "int[ ] num = {11,22,33,44,55};\n",
        "<br>\n",
        "\n",
        "| Element Number | 1 | 2 | 3 | 4 | 5 |\n",
        "|----------------|---|---|---|---|---|\n",
        "| Index          | 0 | 1 | 2 | 3 | 4 |\n",
        "| Value          | 11 | 22 | 33 | 44 | 55 |\n"
      ],
      "metadata": {
        "id": "cORSlEx6lgjJ"
      }
    },
    {
      "cell_type": "code",
      "source": [
        "int[] num ={11,22,33,44,55};\n",
        "\n",
        "for(int i =0 ; i<num.length-1; i++){\n",
        "    System.out.println(\"index is \"+i+\" and element is \"+num[i]);\n",
        "}"
      ],
      "metadata": {
        "colab": {
          "base_uri": "https://localhost:8080/"
        },
        "id": "b1b67N7En8nw",
        "outputId": "890cd83f-afa4-40f4-8351-a5f306a52c18"
      },
      "execution_count": null,
      "outputs": [
        {
          "output_type": "stream",
          "name": "stdout",
          "text": [
            "index is 0 and element is 11\n",
            "index is 1 and element is 22\n",
            "index is 2 and element is 33\n",
            "index is 3 and element is 44\n"
          ]
        }
      ]
    },
    {
      "cell_type": "markdown",
      "source": [
        "---\n",
        "\n",
        "### <u><b>Access elements in Array</b></u>\n",
        "\n",
        "using index number we can,\n",
        "\n",
        "- access elements in arraya\n",
        "\n",
        "- also we can update elements in array"
      ],
      "metadata": {
        "id": "tQQJ8rAxpSXV"
      }
    },
    {
      "cell_type": "code",
      "source": [
        "int[] num = {1,2,3,4,5};\n",
        "\n",
        "// print number 2 element by it index\n",
        "System.out.println(num[1]);\n",
        "\n",
        "//update element to new value\n",
        "num[1]=33;\n",
        "\n",
        "// print update elemnt by same index\n",
        "System.out.println(num[1]);\n",
        "\n"
      ],
      "metadata": {
        "colab": {
          "base_uri": "https://localhost:8080/"
        },
        "id": "ccFNqI0Np9RA",
        "outputId": "5673c171-d82a-448d-dafc-ce4015268ad4"
      },
      "execution_count": null,
      "outputs": [
        {
          "output_type": "stream",
          "name": "stdout",
          "text": [
            "2\n",
            "33\n"
          ]
        }
      ]
    },
    {
      "cell_type": "markdown",
      "source": [
        "### <u><b>Access arrays by using loops</b></u>\n",
        "\n",
        "\n",
        "- we can use both for and while loops for this but when it comes to <b>access every elemnt</b> it is easy to use `for each/enhance loop`\n",
        "\n",
        "- in for each loops we can skip any index\n",
        "\n",
        "- we can do it in for and while loop"
      ],
      "metadata": {
        "id": "V4rrCvAnq8L9"
      }
    },
    {
      "cell_type": "code",
      "source": [
        "int[] num = {2,4,5,7,1,0};\n",
        "\n",
        "// for loop\n",
        "\n",
        "System.out.println(\"using for loop\");\n",
        "for (int i = 0 ; i< num.length-1; i++){\n",
        "    System.out.print(num[i]+\",\");\n",
        "}\n",
        "System.out.println(\"\\b\");\n",
        "\n",
        "System.out.println();\n",
        "\n",
        "// while loop\n",
        "System.out.println(\"using while loop\");\n",
        "int i=0;\n",
        "while(i<num.length-1){\n",
        "    System.out.print(num[i]+\",\");\n",
        "    i++;\n",
        "}\n",
        "System.out.println(\"\\b\");\n",
        "\n",
        "System.out.println();\n",
        "\n",
        "// using for each/enhance LookupError\n",
        "System.out.println(\"using for each/enhance loop\");\n",
        "for(int i : num){\n",
        "    System.out.print(i+\",\");\n",
        "}\n",
        "System.out.println(\"\\b\");\n"
      ],
      "metadata": {
        "colab": {
          "base_uri": "https://localhost:8080/"
        },
        "id": "6F9eFL7MsMfY",
        "outputId": "fb86b51c-c48a-45de-cafb-19d11f865be5"
      },
      "execution_count": null,
      "outputs": [
        {
          "output_type": "stream",
          "name": "stdout",
          "text": [
            "using for loop\n",
            "2,4,5,7,1,\b\n",
            "\n",
            "using while loop\n",
            "2,4,5,7,1,\b\n",
            "\n",
            "using for each/enhance loop\n",
            "2,4,5,7,1,0,\b\n"
          ]
        }
      ]
    },
    {
      "cell_type": "markdown",
      "source": [
        "### Copy Array\n",
        "\n",
        "- When we copy array it will only reference to the original array's memory location\n",
        "\n",
        "- we can update elements by using index and when we change them bacause it only referencing original array will also update"
      ],
      "metadata": {
        "id": "ybWMLEZBugFK"
      }
    },
    {
      "cell_type": "code",
      "source": [
        "\n",
        "        int[] a = {1,22,36,48,51};\n",
        "\n",
        "        int[] b = a;\n",
        "\n",
        "        // before update\n",
        "\n",
        "        System.out.println(\"before update \");\n",
        "        for (int j : a){\n",
        "            System.out.println(j);\n",
        "        }\n",
        "\n",
        "        System.out.println();\n",
        "\n",
        "        for (int i: a){\n",
        "            System.out.println(i);\n",
        "        }\n",
        "\n",
        "        System.out.println();\n",
        "        System.out.println(\"after update\");\n",
        "\n",
        "        // after update\n",
        "\n",
        "          b[1]=444;\n",
        "\n",
        "           for (int j : b){\n",
        "            System.out.println(j);\n",
        "        }\n",
        "\n",
        "        System.out.println();\n",
        "\n",
        "\n",
        "        for (int i: a){\n",
        "            System.out.println(i);\n",
        "        }"
      ],
      "metadata": {
        "colab": {
          "base_uri": "https://localhost:8080/"
        },
        "id": "zakrS4rStl0Z",
        "outputId": "d8c7f263-59e1-40cd-830d-4ce40ac8ed2a"
      },
      "execution_count": null,
      "outputs": [
        {
          "output_type": "stream",
          "name": "stdout",
          "text": [
            "before update \n",
            "1\n",
            "22\n",
            "36\n",
            "48\n",
            "51\n",
            "\n",
            "1\n",
            "22\n",
            "36\n",
            "48\n",
            "51\n",
            "\n",
            "after update\n",
            "1\n",
            "444\n",
            "36\n",
            "48\n",
            "51\n",
            "\n",
            "1\n",
            "444\n",
            "36\n",
            "48\n",
            "51\n"
          ]
        }
      ]
    }
  ]
}